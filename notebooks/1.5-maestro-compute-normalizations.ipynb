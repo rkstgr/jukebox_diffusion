{
 "cells": [
  {
   "cell_type": "code",
   "execution_count": 1,
   "metadata": {},
   "outputs": [],
   "source": [
    "%load_ext autoreload\n",
    "%autoreload 2"
   ]
  },
  {
   "cell_type": "code",
   "execution_count": 3,
   "metadata": {},
   "outputs": [],
   "source": [
    "# load all dependencies\n",
    "import sys\n",
    "import os\n",
    "import torch\n",
    "from einops import rearrange\n",
    "import numpy as np\n",
    "import matplotlib.pyplot as plt\n",
    "\n",
    "sys.path.append('../')\n",
    "\n",
    "from src.datamodule.maestro_datamodule import MaestroDataModule\n",
    "from src.model.jukebox_diffusion import JukeboxDiffusion\n",
    "from src.model.jukebox_vqvae import JukeboxVQVAEModel\n",
    "\n",
    "from IPython.display import Audio"
   ]
  },
  {
   "attachments": {},
   "cell_type": "markdown",
   "metadata": {},
   "source": [
    "# Load the dataset"
   ]
  },
  {
   "cell_type": "code",
   "execution_count": 5,
   "metadata": {},
   "outputs": [
    {
     "name": "stdout",
     "output_type": "stream",
     "text": [
      "Found 962 files. Getting durations\n",
      "self.sr=44100, min: 6, max: inf\n",
      "Keeping 962 of 962 files\n",
      "Found 137 files. Getting durations\n",
      "self.sr=44100, min: 6, max: inf\n",
      "Keeping 137 of 137 files\n",
      "Found 177 files. Getting durations\n",
      "self.sr=44100, min: 6, max: inf\n",
      "Keeping 177 of 177 files\n"
     ]
    }
   ],
   "source": [
    "# check that decoding works\n",
    "datamodule = MaestroDataModule(root_dir=os.environ['MAESTRO_DATASET_DIR'],\n",
    "            batch_size=512,\n",
    "            num_workers=6,\n",
    "            sample_length=131072*2)\n",
    "datamodule.setup()\n",
    "dataloader = datamodule.train_dataloader()"
   ]
  },
  {
   "attachments": {},
   "cell_type": "markdown",
   "metadata": {},
   "source": [
    "# Load sample"
   ]
  },
  {
   "cell_type": "code",
   "execution_count": 6,
   "metadata": {},
   "outputs": [],
   "source": [
    "sample = next(iter(dataloader))"
   ]
  },
  {
   "cell_type": "code",
   "execution_count": null,
   "metadata": {},
   "outputs": [],
   "source": [
    "sample.shape"
   ]
  },
  {
   "attachments": {},
   "cell_type": "markdown",
   "metadata": {},
   "source": [
    "# Compute embeddings"
   ]
  },
  {
   "attachments": {},
   "cell_type": "markdown",
   "metadata": {},
   "source": [
    "## Load VQVAE"
   ]
  },
  {
   "cell_type": "code",
   "execution_count": 4,
   "metadata": {},
   "outputs": [
    {
     "name": "stdout",
     "output_type": "stream",
     "text": [
      "Loading Jukebox VAE from /usr/stud/steiger/.cache/huggingface/jukebox-1b-lyrics/JukeboxVQVAE.pt\n"
     ]
    }
   ],
   "source": [
    "vqvae = JukeboxVQVAEModel()"
   ]
  },
  {
   "cell_type": "code",
   "execution_count": 7,
   "metadata": {},
   "outputs": [
    {
     "ename": "",
     "evalue": "",
     "output_type": "error",
     "traceback": [
      "\u001b[1;31mCanceled future for execute_request message before replies were done"
     ]
    },
    {
     "ename": "",
     "evalue": "",
     "output_type": "error",
     "traceback": [
      "\u001b[1;31mThe Kernel crashed while executing code in the the current cell or a previous cell. Please review the code in the cell(s) to identify a possible cause of the failure. Click <a href='https://aka.ms/vscodeJupyterKernelCrash'>here</a> for more info. View Jupyter <a href='command:jupyter.viewOutput'>log</a> for further details."
     ]
    }
   ],
   "source": [
    "embeddings_lvl0 = vqvae.encode(sample, lvl=0)\n",
    "embeddings_lvl1 = vqvae.encode(sample, lvl=1)\n",
    "embeddings_lvl2 = vqvae.encode(sample, lvl=2)"
   ]
  },
  {
   "attachments": {},
   "cell_type": "markdown",
   "metadata": {},
   "source": [
    "# Compute stats"
   ]
  },
  {
   "cell_type": "code",
   "execution_count": 7,
   "metadata": {},
   "outputs": [],
   "source": [
    "def compute_stats(sample):\n",
    "    # sample: [batch_size, length, channels]\n",
    "    # compute mean and std per channel\n",
    "    mean = torch.mean(sample, dim=(0, 1))\n",
    "    std = torch.std(sample, dim=(0, 1))\n",
    "    return mean, std"
   ]
  },
  {
   "cell_type": "code",
   "execution_count": 6,
   "metadata": {},
   "outputs": [
    {
     "data": {
      "text/plain": [
       "torch.Size([4])"
      ]
     },
     "execution_count": 6,
     "metadata": {},
     "output_type": "execute_result"
    }
   ],
   "source": [
    ")"
   ]
  },
  {
   "cell_type": "code",
   "execution_count": null,
   "metadata": {},
   "outputs": [],
   "source": []
  }
 ],
 "metadata": {
  "kernelspec": {
   "display_name": "audiogen",
   "language": "python",
   "name": "python3"
  },
  "language_info": {
   "codemirror_mode": {
    "name": "ipython",
    "version": 3
   },
   "file_extension": ".py",
   "mimetype": "text/x-python",
   "name": "python",
   "nbconvert_exporter": "python",
   "pygments_lexer": "ipython3",
   "version": "3.10.6"
  },
  "orig_nbformat": 4,
  "vscode": {
   "interpreter": {
    "hash": "2f33e56622382379b77b71923275a23896519a155863590465b9c9d0b9ba580f"
   }
  }
 },
 "nbformat": 4,
 "nbformat_minor": 2
}
