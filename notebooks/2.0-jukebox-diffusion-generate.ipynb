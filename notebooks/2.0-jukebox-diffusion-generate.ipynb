{
 "cells": [
  {
   "cell_type": "code",
   "execution_count": null,
   "metadata": {},
   "outputs": [],
   "source": [
    "%load_ext autoreload\n",
    "%autoreload 2"
   ]
  },
  {
   "cell_type": "code",
   "execution_count": null,
   "metadata": {},
   "outputs": [],
   "source": [
    "# load all dependencies\n",
    "import sys\n",
    "import os\n",
    "import torch\n",
    "from einops import rearrange\n",
    "import numpy as np\n",
    "import matplotlib.pyplot as plt\n",
    "\n",
    "sys.path.append('../')\n",
    "\n",
    "from src.datamodule.maestro_datamodule import MaestroDataModule\n",
    "from src.model.jukebox_diffusion import JukeboxDiffusion\n",
    "from src.model.jukebox_vqvae import JukeboxVQVAEModel\n",
    "from src.module.diffusion_attn_unet_1d import DiffusionAttnUnet1D\n",
    "\n",
    "from IPython.display import Audio"
   ]
  },
  {
   "cell_type": "code",
   "execution_count": null,
   "metadata": {},
   "outputs": [],
   "source": [
    "def play_audio(audio: torch.Tensor, num_samples: int = 1):\n",
    "    for a in torch.clamp(audio[:num_samples], -1, 1).cpu().numpy():\n",
    "        display(Audio(a.flatten(), rate=44100))"
   ]
  },
  {
   "attachments": {},
   "cell_type": "markdown",
   "metadata": {},
   "source": [
    "# Load model"
   ]
  },
  {
   "cell_type": "code",
   "execution_count": null,
   "metadata": {},
   "outputs": [],
   "source": [
    "device = torch.device('cuda' if torch.cuda.is_available() else 'cpu')\n",
    "device= \"cpu\"\n",
    "print(f'Using device: {device}')"
   ]
  },
  {
   "cell_type": "code",
   "execution_count": null,
   "metadata": {},
   "outputs": [],
   "source": [
    "#ckpt_path = '../logs/train/runs/2022-12-13_23-55-32/checkpoints/last.ckpt'\n",
    "ckpt_path = \"../logs/train/runs/2023-02-07_15-34-32/checkpoints/last.ckpt\"\n",
    "ckpt = torch.load(ckpt_path, map_location=device)"
   ]
  },
  {
   "cell_type": "code",
   "execution_count": null,
   "metadata": {},
   "outputs": [],
   "source": [
    "seqmodel = DiffusionAttnUnet1D(\n",
    "        io_channels=64,\n",
    "        n_attn_layers=6,\n",
    "        channel_sizes=[128, 128, 128, 128, 256, 256, 256, 256, 512, 512]\n",
    "    )\n",
    "\n",
    "# remove all keys from state_dict that start with 'jukebox'\n",
    "state_dict = {k: v for k, v in ckpt['state_dict'].items() if not 'vqvae' in k}\n",
    "\n",
    "model = JukeboxDiffusion(model=seqmodel, load_vqvae=False)\n",
    "model.load_state_dict(state_dict=state_dict)\n",
    "model = model.to(device)\n",
    "model.hparams.jukebox_embedding_lvl = 1"
   ]
  },
  {
   "cell_type": "code",
   "execution_count": null,
   "metadata": {},
   "outputs": [],
   "source": [
    "model.prepare_data()\n",
    "model.vqvae = JukeboxVQVAEModel(device=model.device)"
   ]
  },
  {
   "attachments": {},
   "cell_type": "markdown",
   "metadata": {},
   "source": [
    "# Load dataset"
   ]
  },
  {
   "cell_type": "code",
   "execution_count": null,
   "metadata": {},
   "outputs": [],
   "source": [
    "# check that decoding works\n",
    "datamodule = MaestroDataModule(root_dir=os.environ['MAESTRO_DATASET_DIR'],\n",
    "            batch_size=8,\n",
    "            num_workers=4,\n",
    "            sample_length= 131072)\n",
    "datamodule.setup()\n",
    "dataloader = datamodule.val_dataloader()\n",
    "audio = next(iter(dataloader)).to(device)"
   ]
  },
  {
   "attachments": {},
   "cell_type": "markdown",
   "metadata": {},
   "source": [
    "# Inspect dataset"
   ]
  },
  {
   "cell_type": "code",
   "execution_count": null,
   "metadata": {},
   "outputs": [],
   "source": [
    "audio[0].shape"
   ]
  },
  {
   "cell_type": "code",
   "execution_count": null,
   "metadata": {},
   "outputs": [],
   "source": [
    "sample_lvl2 = model.encode(audio.to(model.device), lvl=2)\n",
    "sample_lvl1 = model.encode(audio.to(model.device), lvl=1)\n",
    "sample_lvl0 = model.encode(audio.to(model.device), lvl=0)"
   ]
  },
  {
   "cell_type": "code",
   "execution_count": null,
   "metadata": {},
   "outputs": [],
   "source": [
    "audio_lvl2 = model.decode(sample_lvl2, lvl=2)\n",
    "audio_lvl1 = model.decode(sample_lvl1, lvl=1)\n",
    "audio_lvl0 = model.decode(sample_lvl0, lvl=0)"
   ]
  },
  {
   "attachments": {},
   "cell_type": "markdown",
   "metadata": {},
   "source": [
    "# Dataset sample statistics"
   ]
  },
  {
   "cell_type": "code",
   "execution_count": null,
   "metadata": {},
   "outputs": [],
   "source": [
    "import seaborn as sns\n",
    "from einops import rearrange\n",
    "\n",
    "def compute_sample_statistics(sample: torch.Tensor):\n",
    "    return {\n",
    "        'mean': sample.mean().item(),\n",
    "        'std': sample.std().item(),\n",
    "        'min': sample.min().item(),\n",
    "        'max': sample.max().item(),\n",
    "    }\n",
    "\n",
    "def compute_stats_per_channel(sample: torch.Tensor):\n",
    "    sample = rearrange(sample, 'b t c -> (b t) c')\n",
    "    return {\n",
    "        'mean': sample.mean(dim=0).tolist(),\n",
    "        'std': sample.std(dim=0).tolist(),\n",
    "        'min': sample.min(dim=0),\n",
    "        'max': sample.max(dim=0),\n",
    "    }\n",
    "\n",
    "def sample_histogram(sample: torch.Tensor, n_channels: int = 0, flatten=True):\n",
    "    \"\"\"\n",
    "    Args:\n",
    "        sample: [B, T, C]\n",
    "        n_channels: number of channels to include in histogram. 0: all\n",
    "        flatten: flatten along channels, If False, plot histogram for each channel\n",
    "    \"\"\"\n",
    "    if n_channels == 0:\n",
    "        n_channels = sample.shape[-1]\n",
    "    if flatten:\n",
    "        sample = rearrange(sample, 'b t c -> (b t) c')\n",
    "        sample = sample[:, :n_channels].flatten()\n",
    "        plt.hist(sample.detach().numpy(), bins=100)\n",
    "        plt.xlabel(\"Value\", fontsize=16)\n",
    "        plt.ylabel(\"Frequency\", fontsize=16)\n",
    "    else:\n",
    "        ncols = min(n_channels, 8)\n",
    "        nrows = int(np.ceil(n_channels / ncols))\n",
    "        fig, axes = plt.subplots(nrows=nrows, ncols=ncols, figsize=(10*ncols, 6*nrows))\n",
    "        for i, ax in enumerate(axes.flat):\n",
    "            ax.hist(sample[:, :, i].detach().numpy().flatten(), bins=100)\n",
    "            ax.axvline(x=0, color='red', linestyle='--')\n",
    "            ax.set_xlabel(\"Value\", fontsize=16)\n",
    "            ax.set_ylabel(\"Frequency\", fontsize=16)\n",
    "    plt.show()"
   ]
  },
  {
   "cell_type": "code",
   "execution_count": null,
   "metadata": {},
   "outputs": [],
   "source": [
    "sample_lvl1.shape"
   ]
  },
  {
   "attachments": {},
   "cell_type": "markdown",
   "metadata": {},
   "source": [
    "### LVL2"
   ]
  },
  {
   "cell_type": "code",
   "execution_count": null,
   "metadata": {},
   "outputs": [],
   "source": [
    "compute_sample_statistics(sample_lvl2)"
   ]
  },
  {
   "cell_type": "code",
   "execution_count": null,
   "metadata": {},
   "outputs": [],
   "source": [
    "sample_histogram(sample_lvl2, n_channels=64, flatten=False)"
   ]
  },
  {
   "attachments": {},
   "cell_type": "markdown",
   "metadata": {},
   "source": [
    "### LVL1"
   ]
  },
  {
   "cell_type": "code",
   "execution_count": null,
   "metadata": {},
   "outputs": [],
   "source": [
    "compute_sample_statistics(sample_lvl1)"
   ]
  },
  {
   "cell_type": "code",
   "execution_count": null,
   "metadata": {},
   "outputs": [],
   "source": [
    "compute_stats_per_channel(sample_lvl1)"
   ]
  },
  {
   "cell_type": "code",
   "execution_count": null,
   "metadata": {},
   "outputs": [],
   "source": [
    "sample_histogram(sample_lvl1, n_channels=64, flatten=False)"
   ]
  },
  {
   "attachments": {},
   "cell_type": "markdown",
   "metadata": {},
   "source": [
    "### LVL0"
   ]
  },
  {
   "cell_type": "code",
   "execution_count": null,
   "metadata": {},
   "outputs": [],
   "source": [
    "compute_sample_statistics(sample_lvl0)"
   ]
  },
  {
   "cell_type": "code",
   "execution_count": null,
   "metadata": {},
   "outputs": [],
   "source": [
    "sample_histogram(sample_lvl0, n_channels=64, flatten=False)"
   ]
  },
  {
   "attachments": {},
   "cell_type": "markdown",
   "metadata": {},
   "source": [
    "# Play audio"
   ]
  },
  {
   "attachments": {},
   "cell_type": "markdown",
   "metadata": {},
   "source": [
    "### LVL2"
   ]
  },
  {
   "cell_type": "code",
   "execution_count": null,
   "metadata": {},
   "outputs": [],
   "source": [
    "play_audio(audio_lvl2, num_samples=4)"
   ]
  },
  {
   "attachments": {},
   "cell_type": "markdown",
   "metadata": {},
   "source": [
    "### LVL1"
   ]
  },
  {
   "cell_type": "code",
   "execution_count": null,
   "metadata": {},
   "outputs": [],
   "source": [
    "play_audio(audio_lvl1, num_samples=4)"
   ]
  },
  {
   "attachments": {},
   "cell_type": "markdown",
   "metadata": {},
   "source": [
    "### LVL0"
   ]
  },
  {
   "cell_type": "code",
   "execution_count": null,
   "metadata": {},
   "outputs": [],
   "source": [
    "play_audio(audio_lvl0, num_samples=4)"
   ]
  },
  {
   "cell_type": "code",
   "execution_count": null,
   "metadata": {},
   "outputs": [],
   "source": [
    "with torch.no_grad():\n",
    "    embeddings = model.generate_unconditionally(\n",
    "                batch_size=4,\n",
    "                seq_len=2048,\n",
    "                num_inference_steps=100,\n",
    "                seed=420,\n",
    "            )\n",
    "    "
   ]
  },
  {
   "cell_type": "code",
   "execution_count": null,
   "metadata": {},
   "outputs": [],
   "source": [
    "compute_sample_statistics(embeddings*10)"
   ]
  },
  {
   "cell_type": "code",
   "execution_count": null,
   "metadata": {},
   "outputs": [],
   "source": [
    "audio_gen = model.decode(embeddings*8, lvl=1)"
   ]
  },
  {
   "cell_type": "code",
   "execution_count": null,
   "metadata": {},
   "outputs": [],
   "source": [
    "play_audio(audio_gen)"
   ]
  },
  {
   "cell_type": "code",
   "execution_count": null,
   "metadata": {},
   "outputs": [],
   "source": []
  }
 ],
 "metadata": {
  "kernelspec": {
   "display_name": "audiogen",
   "language": "python",
   "name": "python3"
  },
  "language_info": {
   "codemirror_mode": {
    "name": "ipython",
    "version": 3
   },
   "file_extension": ".py",
   "mimetype": "text/x-python",
   "name": "python",
   "nbconvert_exporter": "python",
   "pygments_lexer": "ipython3",
   "version": "3.10.6"
  },
  "orig_nbformat": 4,
  "vscode": {
   "interpreter": {
    "hash": "2f33e56622382379b77b71923275a23896519a155863590465b9c9d0b9ba580f"
   }
  }
 },
 "nbformat": 4,
 "nbformat_minor": 2
}
