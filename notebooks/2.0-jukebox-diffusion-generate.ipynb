{
 "cells": [
  {
   "cell_type": "code",
   "execution_count": null,
   "metadata": {},
   "outputs": [],
   "source": [
    "%load_ext autoreload\n",
    "%autoreload 2"
   ]
  },
  {
   "cell_type": "code",
   "execution_count": null,
   "metadata": {},
   "outputs": [],
   "source": [
    "# load all dependencies\n",
    "import sys\n",
    "import os\n",
    "import torch\n",
    "from einops import rearrange\n",
    "\n",
    "sys.path.append('../')\n",
    "\n",
    "from src.dataset.jukebox_dataset import JukeboxDataset\n",
    "from src.model.jukebox_diffusion import JukeboxDiffusion\n",
    "from src.module.diffusion_attn_unet_1d import DiffusionAttnUnet1D\n",
    "\n",
    "from IPython.display import Audio"
   ]
  },
  {
   "cell_type": "code",
   "execution_count": null,
   "metadata": {},
   "outputs": [],
   "source": [
    "def play_audio(audio: torch.Tensor):\n",
    "    for a in torch.clamp(audio, -1, 1).cpu().numpy():\n",
    "        display(Audio(a.flatten(), rate=44100))"
   ]
  },
  {
   "cell_type": "code",
   "execution_count": null,
   "metadata": {},
   "outputs": [],
   "source": [
    "ckpt_path = '../logs/train/runs/2022-12-09_19-50-48/checkpoints/last.ckpt'\n",
    "ckpt = torch.load(ckpt_path)"
   ]
  },
  {
   "cell_type": "code",
   "execution_count": null,
   "metadata": {},
   "outputs": [],
   "source": [
    "\n",
    "seqmodel = DiffusionAttnUnet1D(\n",
    "        io_channels=64,\n",
    "        n_attn_layers=6,\n",
    "        channel_sizes=[128, 128, 128, 128,  256, 256, 256, 256,  512, 512, 512]\n",
    "    )\n",
    "\n",
    "# remove all keys from state_dict that start with 'jukebox'\n",
    "state_dict = {k: v for k, v in ckpt['state_dict'].items() if not k.startswith('jukebox_vqvae')}\n",
    "\n",
    "model = JukeboxDiffusion(model=seqmodel)\n",
    "model.load_state_dict(state_dict=state_dict)\n",
    "model.hparams.jukebox_embedding_lvl = 2"
   ]
  },
  {
   "cell_type": "code",
   "execution_count": null,
   "metadata": {},
   "outputs": [],
   "source": [
    "device = torch.device('cuda' if torch.cuda.is_available() else 'cpu')\n",
    "model.to(device)\n",
    "print(f'Using device: {device}')"
   ]
  },
  {
   "cell_type": "code",
   "execution_count": null,
   "metadata": {},
   "outputs": [],
   "source": [
    "model.prepare_data()"
   ]
  },
  {
   "cell_type": "code",
   "execution_count": null,
   "metadata": {},
   "outputs": [],
   "source": [
    "# check that decoding works\n",
    "dataset = JukeboxDataset(root_dir=os.environ['MAESTRO_DATASET_DIR'], split='train', lvl=2, sequence_len=4096)\n",
    "test_audio = model.preprocess(dataset[0].unsqueeze(0).to(device))"
   ]
  },
  {
   "cell_type": "code",
   "execution_count": null,
   "metadata": {},
   "outputs": [],
   "source": [
    "with torch.no_grad():\n",
    "    play_audio(model.decode(test_audio))"
   ]
  },
  {
   "cell_type": "code",
   "execution_count": null,
   "metadata": {},
   "outputs": [],
   "source": [
    "with torch.no_grad():\n",
    "    embeddings = model.generate_unconditionally(\n",
    "                batch_size=4,\n",
    "                seq_len=4096,\n",
    "                num_inference_steps=200,\n",
    "                seed=21,\n",
    "            )\n",
    "    audio = model.decode(embeddings)"
   ]
  },
  {
   "cell_type": "code",
   "execution_count": null,
   "metadata": {},
   "outputs": [],
   "source": [
    "play_audio(audio)"
   ]
  },
  {
   "cell_type": "code",
   "execution_count": null,
   "metadata": {},
   "outputs": [],
   "source": []
  }
 ],
 "metadata": {
  "kernelspec": {
   "display_name": "Python 3.10.6 ('audiogen')",
   "language": "python",
   "name": "python3"
  },
  "language_info": {
   "codemirror_mode": {
    "name": "ipython",
    "version": 3
   },
   "file_extension": ".py",
   "mimetype": "text/x-python",
   "name": "python",
   "nbconvert_exporter": "python",
   "pygments_lexer": "ipython3",
   "version": "3.10.6"
  },
  "orig_nbformat": 4,
  "vscode": {
   "interpreter": {
    "hash": "2f33e56622382379b77b71923275a23896519a155863590465b9c9d0b9ba580f"
   }
  }
 },
 "nbformat": 4,
 "nbformat_minor": 2
}
