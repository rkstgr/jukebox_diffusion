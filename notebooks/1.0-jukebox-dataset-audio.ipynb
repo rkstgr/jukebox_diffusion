{
 "cells": [
  {
   "cell_type": "code",
   "execution_count": null,
   "metadata": {},
   "outputs": [],
   "source": [
    "%load_ext autoreload\n",
    "%autoreload 2"
   ]
  },
  {
   "cell_type": "code",
   "execution_count": null,
   "metadata": {},
   "outputs": [],
   "source": [
    "# load all dependencies\n",
    "import sys\n",
    "import os\n",
    "import torch\n",
    "from src.model.jukebox_diffusion import UnconditionalJukeboxDiffusion\n",
    "from transformers import JukeboxVQVAEConfig, JukeboxVQVAE\n",
    "from einops import rearrange\n",
    "\n",
    "sys.path.append('../')\n",
    "\n",
    "from src.dataset.jukebox_dataset import JukeboxDataset"
   ]
  },
  {
   "cell_type": "code",
   "execution_count": null,
   "metadata": {},
   "outputs": [],
   "source": [
    "LVL = 0\n",
    "device = torch.device(\"cuda:0\" if torch.cuda.is_available() else \"cpu\")"
   ]
  },
  {
   "cell_type": "code",
   "execution_count": null,
   "metadata": {},
   "outputs": [],
   "source": [
    "dataset = JukeboxDataset(\n",
    "    root_dir=os.environ[\"MAESTRO_DATASET_DIR\"],\n",
    "    split=\"train\",\n",
    "    lvl=LVL,\n",
    "    #sequence_len=8192,\n",
    "    )\n",
    "\n",
    "dataset[0].shape\n",
    "\n",
    "# 1 min of audio\n",
    "# lvl2:  20671\n",
    "# lvl1:  82687 | x4\n",
    "# lvl0: 330750 | x4"
   ]
  },
  {
   "cell_type": "code",
   "execution_count": null,
   "metadata": {},
   "outputs": [],
   "source": [
    "# only reload if variable 'vae' is not defined\n",
    "try:\n",
    "    vae\n",
    "except NameError:\n",
    "    vae_path = os.environ[\"JUKEBOX_VQVAE_PATH\"]\n",
    "    config = JukeboxVQVAEConfig.from_pretrained(\"openai/jukebox-1b-lyrics\")\n",
    "    vae = JukeboxVQVAE(config)\n",
    "    vae.load_state_dict(torch.load(vae_path, map_location=\"cpu\"))\n",
    "    vae.eval().to(device)\n",
    "    print(\"Loaded!\")"
   ]
  },
  {
   "cell_type": "code",
   "execution_count": null,
   "metadata": {},
   "outputs": [],
   "source": [
    "@torch.no_grad()\n",
    "def decode(embeddings):\n",
    "    embeddings = embeddings.to(device)\n",
    "    if embeddings.dim() == 2:\n",
    "        embeddings = embeddings.unsqueeze(0)\n",
    "    embeddings = rearrange(embeddings, \"b t c -> b c t\")\n",
    "    # Use only lowest level\n",
    "    decoder = vae.decoders[LVL]\n",
    "    de_quantised_state = decoder([embeddings], all_levels=False)\n",
    "    de_quantised_state = de_quantised_state.permute(0, 2, 1)\n",
    "    return de_quantised_state"
   ]
  },
  {
   "cell_type": "code",
   "execution_count": null,
   "metadata": {},
   "outputs": [],
   "source": [
    "import IPython.display as ipd\n",
    "def play_audio(audio):\n",
    "    for a in audio:\n",
    "        ipd.display(ipd.Audio(a.cpu().numpy().flatten(), rate=44100))"
   ]
  },
  {
   "cell_type": "code",
   "execution_count": null,
   "metadata": {},
   "outputs": [],
   "source": [
    "x = dataset[8]"
   ]
  },
  {
   "cell_type": "code",
   "execution_count": null,
   "metadata": {},
   "outputs": [],
   "source": [
    "play_audio(decode(x))"
   ]
  },
  {
   "cell_type": "code",
   "execution_count": null,
   "metadata": {},
   "outputs": [],
   "source": [
    "dataset.file_paths[7]"
   ]
  }
 ],
 "metadata": {
  "kernelspec": {
   "display_name": "Python 3.8.10 64-bit",
   "language": "python",
   "name": "python3"
  },
  "language_info": {
   "codemirror_mode": {
    "name": "ipython",
    "version": 3
   },
   "file_extension": ".py",
   "mimetype": "text/x-python",
   "name": "python",
   "nbconvert_exporter": "python",
   "pygments_lexer": "ipython3",
   "version": "3.8.10"
  },
  "orig_nbformat": 4,
  "vscode": {
   "interpreter": {
    "hash": "31f2aee4e71d21fbe5cf8b01ff0e069b9275f58929596ceb00d14d90e3e16cd6"
   }
  }
 },
 "nbformat": 4,
 "nbformat_minor": 2
}
