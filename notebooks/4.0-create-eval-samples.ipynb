{
 "cells": [
  {
   "cell_type": "code",
   "execution_count": null,
   "metadata": {},
   "outputs": [],
   "source": [
    "import sys\n",
    "import os\n",
    "import torch\n",
    "from einops import rearrange\n",
    "import numpy as np\n",
    "import torchaudio\n",
    "import matplotlib.pyplot as plt\n",
    "\n",
    "from scipy.io.wavfile import write\n",
    "\n",
    "sys.path.append('../')\n",
    "\n",
    "from src.datamodule.maestro_datamodule import MaestroDataModule"
   ]
  },
  {
   "attachments": {},
   "cell_type": "markdown",
   "metadata": {},
   "source": [
    "# Maestro Reference"
   ]
  },
  {
   "cell_type": "code",
   "execution_count": null,
   "metadata": {},
   "outputs": [],
   "source": [
    "datamodule = MaestroDataModule(root_dir=os.environ[\"MAESTRO_DATASET_DIR\"], batch_size=64, num_workers=4, sample_length=44100*5)\n",
    "datamodule.setup()\n",
    "dataloader = datamodule.val_dataloader()\n",
    "dataloader.shuffle = True\n",
    "data_iter = iter(dataloader)\n",
    "batch = next(data_iter)\n"
   ]
  },
  {
   "cell_type": "code",
   "execution_count": null,
   "metadata": {},
   "outputs": [],
   "source": [
    "\n",
    "for i, audio in enumerate(batch):\n",
    "    audio = audio.transpose(0, 1)\n",
    "    torchaudio.save(f\"../eval/maestro/test/test_{i}.wav\", audio, sample_rate=44100)"
   ]
  },
  {
   "attachments": {},
   "cell_type": "markdown",
   "metadata": {},
   "source": [
    "## MAESTRO LVL1"
   ]
  },
  {
   "cell_type": "code",
   "execution_count": null,
   "metadata": {},
   "outputs": [],
   "source": [
    "from src.model.jukebox_vqvae import JukeboxVQVAEModel\n",
    "\n",
    "vqvae = JukeboxVQVAEModel().to(\"cpu\")\n",
    "vqvae.eval()\n",
    "\n",
    "#batch = batch.to(torch.device(\"cuda\" if torch.cuda.is_available() else \"cpu\"))\n",
    "embeddings = vqvae.encode(batch, 1)\n",
    "batch_lvl1 = vqvae.decode(embeddings, 1)\n",
    "\n",
    "for i, audio in enumerate(batch_lvl1):    \n",
    "    audio = audio.transpose(0, 1)\n",
    "    torchaudio.save(f\"../eval/maestro/validation_lvl1/test_{i}.wav\", audio, sample_rate=44100)"
   ]
  },
  {
   "attachments": {},
   "cell_type": "markdown",
   "metadata": {},
   "source": [
    "## LVL0"
   ]
  },
  {
   "cell_type": "code",
   "execution_count": null,
   "metadata": {},
   "outputs": [],
   "source": [
    "from src.model.jukebox_vqvae import JukeboxVQVAEModel\n",
    "\n",
    "vqvae = JukeboxVQVAEModel().to(\"cpu\")\n",
    "vqvae.eval()\n",
    "\n",
    "#batch = batch.to(torch.device(\"cuda\" if torch.cuda.is_available() else \"cpu\"))\n",
    "embeddings = vqvae.encode(batch, 0)\n",
    "batch_lvl1 = vqvae.decode(embeddings, 0)\n",
    "\n",
    "for i, audio in enumerate(batch_lvl1):    \n",
    "    audio = audio.transpose(0, 1)\n",
    "    torchaudio.save(f\"../eval/maestro/validation_lvl1/test_{i}.wav\", audio, sample_rate=44100)"
   ]
  },
  {
   "cell_type": "code",
   "execution_count": null,
   "metadata": {},
   "outputs": [],
   "source": [
    "# move all files from eval/maestro/validatation_lvl1 that do not contain \"16k\" to eval/maestro/validation_lvl0\n",
    "\n",
    "for f in Path(\"../eval/maestro/validation_lvl1\").glob(\"*\"):\n",
    "    if \"16k\" not in f.name:\n",
    "        f.rename(f\"../eval/maestro/validation_lvl0/{f.name}\")"
   ]
  },
  {
   "cell_type": "code",
   "execution_count": null,
   "metadata": {},
   "outputs": [],
   "source": [
    "from pathlib import Path\n",
    "\n",
    "p = Path(\"../eval/maestro/\")"
   ]
  },
  {
   "cell_type": "code",
   "execution_count": null,
   "metadata": {},
   "outputs": [],
   "source": [
    "for f in p.glob(\"*/*\"):\n",
    "    if \"16k\" not in f.name:\n",
    "        f.unlink()\n",
    "    if \"16k.wav_16k\" in f.name:\n",
    "        f.unlink()\n",
    "    if \"16k_16k\" in f.name:\n",
    "        f.unlink()"
   ]
  },
  {
   "cell_type": "code",
   "execution_count": null,
   "metadata": {},
   "outputs": [],
   "source": [
    "for f in p.glob(\"*/*\"):\n",
    "    # rename test_20.wav_16k.wav to test_20_16k.wav\n",
    "    f.rename(f.parent / f.name.replace(\".wav_16k\", \"_16k\"))"
   ]
  },
  {
   "cell_type": "code",
   "execution_count": null,
   "metadata": {},
   "outputs": [],
   "source": [
    "def resample_files(source_dir):\n",
    "    files = list(Path(source_dir).glob(\"**/*.wav\"))\n",
    "    for f in files:\n",
    "        if \"16k\" not in f.name:\n",
    "            if (f.parent / f\"{f.stem}_16k.wav\").exists():\n",
    "                continue\n",
    "            # resample with ffmpeg: ffmpeg -i '{}' -ar 16000 -ac 1 -vn -c:a pcm_s16le -y '{}'\n",
    "            print(f\"Resampling {f} to 16k\")\n",
    "            os.system(f\"/usr/stud/steiger/miniconda3/bin/ffmpeg -i '{f}' -ar 16000 -ac 1 -vn -c:a pcm_s16le -y '{f.parent / f.stem}_16k.wav'\")\n",
    "            os.remove(f)\n"
   ]
  },
  {
   "cell_type": "code",
   "execution_count": null,
   "metadata": {},
   "outputs": [],
   "source": [
    "resample_files(\"../eval/maestro/validation_lvl0\")"
   ]
  },
  {
   "cell_type": "code",
   "execution_count": null,
   "metadata": {},
   "outputs": [],
   "source": []
  }
 ],
 "metadata": {
  "kernelspec": {
   "display_name": "audiogen",
   "language": "python",
   "name": "python3"
  },
  "language_info": {
   "codemirror_mode": {
    "name": "ipython",
    "version": 3
   },
   "file_extension": ".py",
   "mimetype": "text/x-python",
   "name": "python",
   "nbconvert_exporter": "python",
   "pygments_lexer": "ipython3",
   "version": "3.10.6"
  },
  "orig_nbformat": 4,
  "vscode": {
   "interpreter": {
    "hash": "2f33e56622382379b77b71923275a23896519a155863590465b9c9d0b9ba580f"
   }
  }
 },
 "nbformat": 4,
 "nbformat_minor": 2
}
