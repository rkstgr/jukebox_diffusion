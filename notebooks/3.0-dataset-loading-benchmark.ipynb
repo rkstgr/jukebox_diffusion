{
 "cells": [
  {
   "cell_type": "code",
   "execution_count": null,
   "metadata": {},
   "outputs": [],
   "source": [
    "from pathlib import Path\n",
    "import torch\n",
    "import os\n",
    "import re"
   ]
  },
  {
   "cell_type": "code",
   "execution_count": null,
   "metadata": {},
   "outputs": [],
   "source": [
    "# for every lvl2 file\n",
    "#   load it\n",
    "#   split it into chunks of 6144 ~ 17sec\n",
    "#   for every split save it under\n",
    "#   old part001 -> new part001:part004\n",
    "#   old part002 -> new part005:part008\n",
    "#   new part = old part + chunk_index + 1 | chunk_index = 0, 1, 2, 3\n",
    "#   total parts = old total parts * 4"
   ]
  },
  {
   "cell_type": "code",
   "execution_count": null,
   "metadata": {},
   "outputs": [],
   "source": [
    "def subdivide(file):\n",
    "    file = Path(file)\n",
    "    current_part_str, total_parts_str = re.findall(r\"part(\\d+)-of-(\\d+)\", str(file))[0]\n",
    "    current_part = int(current_part_str)\n",
    "    total_parts = int(total_parts_str)\n",
    "    data = torch.load(file, map_location=\"cpu\")\n",
    "    seq_len = data.shape[1]\n",
    "    assert seq_len > 20668, \"seq_len is too short to be split\"\n",
    "    data_splits = [x for x in data.split(4096, dim=1) if x.shape[1] == 4096]\n",
    "    new_total_parts = total_parts * len(data_splits)\n",
    "    for i, data_split in enumerate(data_splits):\n",
    "        new_part = (current_part - 1) * len(data_splits) + i + 1\n",
    "        new_file = file.parent / re.sub(r\"part\\d+-of-\\d+\", f\"part{new_part:03d}-of-{new_total_parts:03d}\", file.name)\n",
    "        #torch.save(split_data, new_file)\n",
    "        print(f\"{str(file)[-15]} -> {new_file}\")\n",
    "    "
   ]
  },
  {
   "cell_type": "code",
   "execution_count": null,
   "metadata": {},
   "outputs": [],
   "source": [
    "f = \"/storage/user/steiger/dataset/maestro-v3.0.0/2004/MIDI-Unprocessed_SMF_22_R1_2004_01-04_ORIG_MID--AUDIO_22_R1_2004_10_Track10_wav.part004-of-014.jukebox.lvl2.pt\"\n",
    "subdivide(f)"
   ]
  },
  {
   "cell_type": "code",
   "execution_count": null,
   "metadata": {},
   "outputs": [],
   "source": [
    "root_dir = Path(os.environ[\"MAESTRO_DATASET_DIR\"])\n",
    "root_dir"
   ]
  },
  {
   "cell_type": "code",
   "execution_count": null,
   "metadata": {},
   "outputs": [],
   "source": [
    "lvl2_files = list(root_dir.glob(\"**/*lvl2.v2.pt\"))\n",
    "print(len(lvl2_files))\n",
    "lvl2_files[:3]"
   ]
  },
  {
   "cell_type": "code",
   "execution_count": null,
   "metadata": {},
   "outputs": [],
   "source": [
    "sample = torch.load(lvl2_files[0], map_location=torch.device('cpu'))\n",
    "sample.shape"
   ]
  },
  {
   "cell_type": "code",
   "execution_count": null,
   "metadata": {},
   "outputs": [],
   "source": [
    "batch_files = lvl2_files[:64]"
   ]
  },
  {
   "cell_type": "code",
   "execution_count": null,
   "metadata": {},
   "outputs": [],
   "source": [
    "def load_batch(files):\n",
    "    return [torch.load(f, map_location=torch.device('cpu')) for f in files]"
   ]
  },
  {
   "cell_type": "code",
   "execution_count": null,
   "metadata": {},
   "outputs": [],
   "source": [
    "%timeit load_batch(batch_files)"
   ]
  },
  {
   "cell_type": "code",
   "execution_count": null,
   "metadata": {},
   "outputs": [],
   "source": [
    "import sys\n",
    "import os\n",
    "import torch\n",
    "from einops import rearrange\n",
    "\n",
    "sys.path.append('../')\n",
    "from src.dataset.jukebox_dataset import JukeboxDataset"
   ]
  },
  {
   "cell_type": "code",
   "execution_count": null,
   "metadata": {},
   "outputs": [],
   "source": [
    "dataset = JukeboxDataset(root_dir =root_dir, split=\"train\", lvl=2, sequence_len=4000, use_cache=True)"
   ]
  },
  {
   "cell_type": "code",
   "execution_count": null,
   "metadata": {},
   "outputs": [],
   "source": [
    "for i in range(len(dataset)):\n",
    "    print(i)\n",
    "    sample = dataset[i]\n",
    "    break"
   ]
  },
  {
   "cell_type": "code",
   "execution_count": null,
   "metadata": {},
   "outputs": [],
   "source": [
    "def load_dataset_batch(dataset, batch_size=64):\n",
    "    indices = torch.randint(0, len(dataset), (batch_size,))\n",
    "    return [dataset[indices[i]] for i in range(batch_size)]"
   ]
  },
  {
   "cell_type": "code",
   "execution_count": null,
   "metadata": {},
   "outputs": [],
   "source": [
    "%timeit load_dataset_batch(dataset, batch_size=64)"
   ]
  },
  {
   "cell_type": "code",
   "execution_count": null,
   "metadata": {},
   "outputs": [],
   "source": [
    "from src.datamodule.jukebox_datamodule import JukeboxDataModule\n",
    "\n",
    "datamodule = JukeboxDataModule(root_dir=root_dir, batch_size=64, num_workers=2, lvl=2, sequence_len=4000, use_cache=False)\n",
    "datamodule.setup()\n",
    "dataloader = datamodule.train_dataloader()\n",
    "data_iter = iter(dataloader)"
   ]
  },
  {
   "cell_type": "code",
   "execution_count": null,
   "metadata": {},
   "outputs": [],
   "source": []
  },
  {
   "cell_type": "code",
   "execution_count": null,
   "metadata": {},
   "outputs": [],
   "source": [
    "%timeit data_iter.__next__()"
   ]
  },
  {
   "cell_type": "code",
   "execution_count": null,
   "metadata": {},
   "outputs": [],
   "source": []
  }
 ],
 "metadata": {
  "kernelspec": {
   "display_name": "audiogen",
   "language": "python",
   "name": "python3"
  },
  "language_info": {
   "codemirror_mode": {
    "name": "ipython",
    "version": 3
   },
   "file_extension": ".py",
   "mimetype": "text/x-python",
   "name": "python",
   "nbconvert_exporter": "python",
   "pygments_lexer": "ipython3",
   "version": "3.10.6"
  },
  "orig_nbformat": 4,
  "vscode": {
   "interpreter": {
    "hash": "2f33e56622382379b77b71923275a23896519a155863590465b9c9d0b9ba580f"
   }
  }
 },
 "nbformat": 4,
 "nbformat_minor": 2
}
